{
 "cells": [
  {
   "cell_type": "code",
   "execution_count": 1,
   "id": "1760444b-4fcb-42b1-8c9d-dce2cb45effc",
   "metadata": {},
   "outputs": [],
   "source": [
    "import pickle\n",
    "import os\n",
    "import sys\n",
    "\n",
    "path = \"./emo20q\"\n",
    "if path not in sys.path:\n",
    "    sys.path.insert(0, path)\n"
   ]
  },
  {
   "cell_type": "code",
   "execution_count": 2,
   "id": "fd7e2244-182e-489a-a6da-ec5e24b3fb1f",
   "metadata": {},
   "outputs": [
    {
     "data": {
      "text/plain": [
       "['./emo20q',\n",
       " '/Users/kaze7539/proj/emo20q-web',\n",
       " '/usr/local/opt/python@3.8/Frameworks/Python.framework/Versions/3.8/lib/python38.zip',\n",
       " '/usr/local/opt/python@3.8/Frameworks/Python.framework/Versions/3.8/lib/python3.8',\n",
       " '/usr/local/opt/python@3.8/Frameworks/Python.framework/Versions/3.8/lib/python3.8/lib-dynload',\n",
       " '',\n",
       " '/Users/kaze7539/.virtualenvs/emo20q-web/lib/python3.8/site-packages']"
      ]
     },
     "execution_count": 2,
     "metadata": {},
     "output_type": "execute_result"
    }
   ],
   "source": [
    "sys.path"
   ]
  },
  {
   "cell_type": "code",
   "execution_count": 3,
   "id": "ad13a79a-ccd3-4b2d-ac05-9cb81218b387",
   "metadata": {},
   "outputs": [
    {
     "name": "stderr",
     "output_type": "stream",
     "text": [
      "2022-08-09 18:56:39.036243: I tensorflow/core/platform/cloud/google_auth_provider.cc:180] Attempting an empty bearer token since no token was retrieved from files, and GCE metadata check was skipped.\n",
      "2022-08-09 18:56:39.693682: I tensorflow/core/platform/cpu_feature_guard.cc:193] This TensorFlow binary is optimized with oneAPI Deep Neural Network Library (oneDNN) to use the following CPU instructions in performance-critical operations:  AVX2 FMA\n",
      "To enable them in other operations, rebuild TensorFlow with the appropriate compiler flags.\n"
     ]
    }
   ],
   "source": [
    "import emo20q\n",
    "#from emo20q.gpdaquestioner import QuestionerAgent\n",
    "from emo20q.qaagent import QAAgent\n",
    "# it would be nice to just pickle the whole agent, but because of\n",
    "# lambdas we need to reconstruct the agent from episodic buffer (short\n",
    "# term memory) and lexical access (word knowledge)\n",
    "from emo20q.gpdaquestioner import LexicalAccess\n",
    "from emo20q.gpdaquestioner import SemanticKnowledge\n",
    "from emo20q.gpdaquestioner import EpisodicBuffer\n",
    "#from emo20q.qa import answer_emotion_question\n",
    "\n"
   ]
  },
  {
   "cell_type": "code",
   "execution_count": 4,
   "id": "c434a526-7d76-4901-b26a-f096e3a18c24",
   "metadata": {},
   "outputs": [],
   "source": [
    "session_dir = \"sessions_20220802\""
   ]
  },
  {
   "cell_type": "code",
   "execution_count": 5,
   "id": "236fa0ca-2508-4e30-8d76-85d6a0875318",
   "metadata": {},
   "outputs": [],
   "source": [
    "sessions = os.listdir(session_dir)"
   ]
  },
  {
   "cell_type": "code",
   "execution_count": 9,
   "id": "936abc85-a495-4d22-8f25-e12dca99d434",
   "metadata": {},
   "outputs": [],
   "source": [
    "def get_agent_from_session(sesh):\n",
    "    print(sesh)\n",
    "    #with open(os.path.join(session_dir, sesh), \"rb\") as f:\n",
    "    with open(sesh, \"rb\") as f:    \n",
    "        episodic_buffer, state_name, belief = pickle.load(f)\n",
    "        agent = QAAgent(episodicBuffer=episodic_buffer,\n",
    "                        lexicalAccess=LexicalAccess(),\n",
    "                        semanticKnowledge=SemanticKnowledge())\n",
    "    return agent\n",
    "        \n",
    "                   "
   ]
  },
  {
   "cell_type": "code",
   "execution_count": 10,
   "id": "f2c8b5b3-898f-460e-aa2a-75bfc0eb4249",
   "metadata": {},
   "outputs": [
    {
     "name": "stdout",
     "output_type": "stream",
     "text": [
      "sessions_20220802/bad6881b-9413-4fdb-b683-1d6ae116ee9a\n"
     ]
    }
   ],
   "source": [
    "a = get_agent_from_session(os.path.join(session_dir, sessions[0]))\n"
   ]
  },
  {
   "cell_type": "code",
   "execution_count": 11,
   "id": "793d3e06-7328-4b57-9301-9db190eb8351",
   "metadata": {},
   "outputs": [],
   "source": [
    "def get_dialog_length(agent):\n",
    "    return len(agent.episodicBuffer)"
   ]
  },
  {
   "cell_type": "code",
   "execution_count": 12,
   "id": "c466ac71-06e7-488c-bd06-e6d664f1748e",
   "metadata": {},
   "outputs": [],
   "source": [
    "def get_num_user_turns(agent):\n",
    "    return len([t for t in agent.episodicBuffer])"
   ]
  },
  {
   "cell_type": "code",
   "execution_count": 13,
   "id": "124fa53f-4208-4c24-8a3a-c2a6ee7e443f",
   "metadata": {},
   "outputs": [
    {
     "data": {
      "text/plain": [
       "142"
      ]
     },
     "execution_count": 13,
     "metadata": {},
     "output_type": "execute_result"
    }
   ],
   "source": [
    "get_dialog_length(a)"
   ]
  },
  {
   "cell_type": "code",
   "execution_count": 14,
   "id": "c5027748-3f46-4107-8ac0-4ea11d1c0d91",
   "metadata": {},
   "outputs": [],
   "source": [
    "def get_user_turns(agent):\n",
    "    return list([type(t) for t in agent.episodicBuffer if type(t) != emo20q.episodicbuffer.AgentUtt])"
   ]
  },
  {
   "cell_type": "code",
   "execution_count": 15,
   "id": "ce13713e-37ad-4e7d-93af-011b5d729b66",
   "metadata": {},
   "outputs": [
    {
     "data": {
      "text/plain": [
       "[]"
      ]
     },
     "execution_count": 15,
     "metadata": {},
     "output_type": "execute_result"
    }
   ],
   "source": [
    "list([type(t) for t in a.episodicBuffer if type(t) != emo20q.episodicbuffer.AgentUtt])"
   ]
  },
  {
   "cell_type": "code",
   "execution_count": 16,
   "id": "59e7979a-0fd9-4d15-935e-007fe7e3a650",
   "metadata": {},
   "outputs": [
    {
     "data": {
      "text/plain": [
       "[]"
      ]
     },
     "execution_count": 16,
     "metadata": {},
     "output_type": "execute_result"
    }
   ],
   "source": [
    "get_user_turns(a)"
   ]
  },
  {
   "cell_type": "code",
   "execution_count": 22,
   "id": "bd555f80-2d1d-491f-947d-12d5e4afdf78",
   "metadata": {},
   "outputs": [],
   "source": [
    "def print_turns(agent):\n",
    "    for t in a.episodicBuffer:\n",
    "        print(t.gloss, t.semantics, t.talker, t.text)\n",
    "        print()"
   ]
  },
  {
   "cell_type": "code",
   "execution_count": 23,
   "id": "605418f7-89f7-48cb-bbce-ff9e41522912",
   "metadata": {},
   "outputs": [],
   "source": [
    "#a = get_agent_from_session(os.path.join(session_dir, \"431580ef-7ac8-4f0c-84ee-e7762d1ad6e5\"))\n",
    "#get_user_turns(a)\n"
   ]
  },
  {
   "cell_type": "code",
   "execution_count": 24,
   "id": "1b385944-9173-4037-9a5a-782034f5c43b",
   "metadata": {},
   "outputs": [],
   "source": [
    "#print_turns(a)"
   ]
  },
  {
   "cell_type": "code",
   "execution_count": 25,
   "id": "8ca48f38-2be1-477a-9477-5e712f07b5fe",
   "metadata": {},
   "outputs": [],
   "source": [
    "# in the sessions from the server, there doesn't seem to be any user data!!\n",
    "#for sesh in sessions:\n",
    "#    print(get_user_turns(get_agent_from_session(os.path.join(session_dir, sesh))))"
   ]
  },
  {
   "cell_type": "code",
   "execution_count": 27,
   "id": "753975a5-99c9-4904-b132-968073342cb0",
   "metadata": {},
   "outputs": [
    {
     "name": "stdout",
     "output_type": "stream",
     "text": [
      "eab7b28a-9cac-4c03-b479-7ae5357fa3ee\n",
      "None None agent Awesome!\n",
      "Now let's switch roles.  I'll pick the emotion and you ask the questions.\n",
      "\n"
     ]
    }
   ],
   "source": [
    "# try local sessions:\n",
    "# eab7b28a-9cac-4c03-b479-7ae5357fa3ee should have user data\n",
    "# 95b98c27-60e4-4b24-a11e-21d4058bfc70 should not\n",
    "a = get_agent_from_session(\"eab7b28a-9cac-4c03-b479-7ae5357fa3ee\")\n",
    "print_turns(a)"
   ]
  },
  {
   "cell_type": "code",
   "execution_count": 28,
   "id": "9064ca84-6f7f-4104-96e7-dddfd2f78b18",
   "metadata": {},
   "outputs": [
    {
     "name": "stdout",
     "output_type": "stream",
     "text": [
      "95b98c27-60e4-4b24-a11e-21d4058bfc70\n",
      "None None agent [Agent enters the universe of discourse]\n",
      "Welcome to EMO20Q\n",
      "I'm going to try to guess the emotion that you are thinking of\n",
      "it needn't be the emotion you are currently feeling\n",
      "Let me know when you are ready...\n",
      "\n",
      "None None agent [Agent enters the universe of discourse]\n",
      "Welcome to EMO20Q\n",
      "I'm going to try to guess the emotion that you are thinking of\n",
      "it needn't be the emotion you are currently feeling\n",
      "Let me know when you are ready...\n",
      "\n"
     ]
    }
   ],
   "source": [
    "a = get_agent_from_session(\"95b98c27-60e4-4b24-a11e-21d4058bfc70\")\n",
    "print_turns(a)"
   ]
  },
  {
   "cell_type": "code",
   "execution_count": null,
   "id": "6c4681ad-3cc2-4fd3-8822-f6e8d90089b1",
   "metadata": {},
   "outputs": [],
   "source": []
  },
  {
   "cell_type": "code",
   "execution_count": null,
   "id": "19c50033-d625-4d44-a971-e886b181b543",
   "metadata": {},
   "outputs": [],
   "source": []
  },
  {
   "cell_type": "code",
   "execution_count": null,
   "id": "90738713-cc8b-4d44-83a6-d5d171606063",
   "metadata": {},
   "outputs": [],
   "source": []
  }
 ],
 "metadata": {
  "kernelspec": {
   "display_name": "Python 3 (ipykernel)",
   "language": "python",
   "name": "python3"
  },
  "language_info": {
   "codemirror_mode": {
    "name": "ipython",
    "version": 3
   },
   "file_extension": ".py",
   "mimetype": "text/x-python",
   "name": "python",
   "nbconvert_exporter": "python",
   "pygments_lexer": "ipython3",
   "version": "3.8.11"
  }
 },
 "nbformat": 4,
 "nbformat_minor": 5
}
